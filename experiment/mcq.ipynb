{
 "cells": [
  {
   "cell_type": "markdown",
   "metadata": {},
   "source": [
    "# MCQ Generator"
   ]
  },
  {
   "cell_type": "code",
   "execution_count": 9,
   "metadata": {},
   "outputs": [],
   "source": [
    "# !pip install pandas openai langchain streamlit python-dotenv PyPDF2"
   ]
  },
  {
   "cell_type": "code",
   "execution_count": 85,
   "metadata": {},
   "outputs": [],
   "source": [
    "from langchain.llms import OpenAI\n",
    "from langchain.chat_models import ChatOpenAI\n",
    "from langchain.prompts import PromptTemplate\n",
    "from langchain.chains import LLMChain, SequentialChain\n",
    "from langchain.callbacks import get_openai_callback\n",
    "from langchain_community.llms import HuggingFaceHub\n",
    "\n",
    "import os\n",
    "import json\n",
    "import pandas as pd\n",
    "import traceback\n",
    "\n",
    "from dotenv import load_dotenv\n",
    "\n",
    "import PyPDF2"
   ]
  },
  {
   "cell_type": "code",
   "execution_count": 86,
   "metadata": {},
   "outputs": [
    {
     "data": {
      "text/plain": [
       "True"
      ]
     },
     "execution_count": 86,
     "metadata": {},
     "output_type": "execute_result"
    }
   ],
   "source": [
    "load_dotenv() #take environment variables from .env"
   ]
  },
  {
   "cell_type": "code",
   "execution_count": 87,
   "metadata": {},
   "outputs": [],
   "source": [
    "KEY=os.getenv(\"OPENAI_API_KEY\")\n",
    "os.environ[\"HUGGINGFACEHUB_API_TOKEN\"] = os.getenv(\"HUGGINGFACE_API_KEY\")"
   ]
  },
  {
   "cell_type": "code",
   "execution_count": 88,
   "metadata": {},
   "outputs": [],
   "source": [
    "model1= \"gpt-3.5-turbo\"\n",
    "model2= \"gpt-4o\"\n",
    "model3 = \"mistralai/Mistral-7B-Instruct-v0.3\"\n",
    "model4 = \"meta-llama/Meta-Llama-3-8B-Instruct\"\n",
    "model5 = \"meta-llama/Meta-Llama-3-8B\""
   ]
  },
  {
   "cell_type": "code",
   "execution_count": 89,
   "metadata": {},
   "outputs": [
    {
     "name": "stderr",
     "output_type": "stream",
     "text": [
      "c:\\Users\\User\\miniconda3\\Lib\\site-packages\\tqdm\\auto.py:21: TqdmWarning: IProgress not found. Please update jupyter and ipywidgets. See https://ipywidgets.readthedocs.io/en/stable/user_install.html\n",
      "  from .autonotebook import tqdm as notebook_tqdm\n"
     ]
    }
   ],
   "source": [
    "llm1 = ChatOpenAI(openai_api_key=KEY, model_name=\"gpt-3.5-turbo\", temperature=0.5)\n",
    "llm2 = ChatOpenAI(openai_api_key=KEY, model_name=model2, temperature=0.7)\n",
    "llm3 = HuggingFaceHub(repo_id=model3, model_kwargs={'temperature':1,'max_new_tokens': 1000})\n",
    "llm4 = HuggingFaceHub(repo_id=model4, model_kwargs={'temperature':1})"
   ]
  },
  {
   "cell_type": "code",
   "execution_count": 90,
   "metadata": {},
   "outputs": [],
   "source": [
    "RESPONSE_JSON = {\n",
    "    \"1\": {\n",
    "        \"mcq\": \"multiple choice question\",\n",
    "        \"options\": {\n",
    "            \"a\": \"choice here\",\n",
    "            \"b\": \"choice here\",\n",
    "            \"c\": \"choice here\",\n",
    "            \"d\": \"choice here\",\n",
    "        },\n",
    "        \"correct\": \"correct answer\",\n",
    "    },\n",
    "    \"2\": {\n",
    "        \"mcq\": \"multiple choice question\",\n",
    "        \"options\": {\n",
    "            \"a\": \"choice here\",\n",
    "            \"b\": \"choice here\",\n",
    "            \"c\": \"choice here\",\n",
    "            \"d\": \"choice here\",\n",
    "        },\n",
    "        \"correct\": \"correct answer\",\n",
    "    },\n",
    "    \"3\": {\n",
    "        \"mcq\": \"multiple choice question\",\n",
    "        \"options\": {\n",
    "            \"a\": \"choice here\",\n",
    "            \"b\": \"choice here\",\n",
    "            \"c\": \"choice here\",\n",
    "            \"d\": \"choice here\",\n",
    "        },\n",
    "        \"correct\": \"correct answer\",\n",
    "    },\n",
    "}"
   ]
  },
  {
   "cell_type": "code",
   "execution_count": 91,
   "metadata": {},
   "outputs": [
    {
     "data": {
      "text/plain": [
       "'\\nnumber=5 \\nsubject=\"dépenses éligibles\"\\ntone=\"simple\"\\n'"
      ]
     },
     "execution_count": 91,
     "metadata": {},
     "output_type": "execute_result"
    }
   ],
   "source": [
    "# \"\"\"\n",
    "# number=5 \n",
    "# subject=\"data science\"\n",
    "# tone=\"simple\"\n",
    "# \"\"\"\n",
    "\"\"\"\n",
    "number=5 \n",
    "subject=\"dépenses éligibles\"\n",
    "tone=\"simple\"\n",
    "\"\"\""
   ]
  },
  {
   "cell_type": "code",
   "execution_count": 92,
   "metadata": {},
   "outputs": [],
   "source": [
    "TEMPLATE = '''\n",
    "Text:{text}\n",
    "You are an expert MCQ maker. Given the above text, your job is to create a quiz of {number} multiple choice questions for {subject} students in {tone} tone. \n",
    "Make sure the questions are not repeated and check all the questions to be conformed to the text.\n",
    "Make sure to format your response like RESPONSE_JSON below and use it as a guide. Ensure to make {number} MCQs.\n",
    "### RESPONSE_JSON\n",
    "{response_json}\n",
    "\n",
    "'''"
   ]
  },
  {
   "cell_type": "code",
   "execution_count": 93,
   "metadata": {},
   "outputs": [],
   "source": [
    "quiz_generator_prompt = PromptTemplate(\n",
    "    input_variables=[\"text\", \"number\", \"subject\", \"tone\", \"response_json\"],\n",
    "    template = TEMPLATE\n",
    ")"
   ]
  },
  {
   "cell_type": "code",
   "execution_count": 94,
   "metadata": {},
   "outputs": [],
   "source": [
    "quiz_chain = LLMChain(llm=llm3, prompt=quiz_generator_prompt, output_key=\"quiz\", verbose=True)"
   ]
  },
  {
   "cell_type": "code",
   "execution_count": 108,
   "metadata": {},
   "outputs": [
    {
     "name": "stdout",
     "output_type": "stream",
     "text": [
      "\n",
      "\n",
      "\u001b[1m> Entering new LLMChain chain...\u001b[0m\n",
      "Prompt after formatting:\n",
      "\u001b[32;1m\u001b[1;3m\n",
      "Text:Les dépenses éligibles sont les dépenses qui sont admissibles à un remboursement ou à une déduction fiscale. Ces dépenses sont généralement définies par les autorités fiscales et peuvent varier en fonction du type de dépense et de la juridiction fiscale. Par exemple, les frais de scolarité, les frais médicaux et les frais de garde d'enfants peuvent être considérés comme des dépenses éligibles dans certaines juridictions.\n",
      "You are an expert MCQ maker. Given the above text, your job is to create a quiz of 5 multiple choice questions for dépenses éligibles students in simple tone. \n",
      "Make sure the questions are not repeated and check all the questions to be conformed to the text.\n",
      "Make sure to format your response like RESPONSE_JSON below and use it as a guide. Ensure to make 5 MCQs.\n",
      "### RESPONSE_JSON\n",
      "{'1': {'mcq': 'multiple choice question', 'options': {'a': 'choice here', 'b': 'choice here', 'c': 'choice here', 'd': 'choice here'}, 'correct': 'correct answer'}, '2': {'mcq': 'multiple choice question', 'options': {'a': 'choice here', 'b': 'choice here', 'c': 'choice here', 'd': 'choice here'}, 'correct': 'correct answer'}, '3': {'mcq': 'multiple choice question', 'options': {'a': 'choice here', 'b': 'choice here', 'c': 'choice here', 'd': 'choice here'}, 'correct': 'correct answer'}}\n",
      "\n",
      "\u001b[0m\n",
      "\n",
      "\u001b[1m> Finished chain.\u001b[0m\n",
      "\n",
      "Text:Les dépenses éligibles sont les dépenses qui sont admissibles à un remboursement ou à une déduction fiscale. Ces dépenses sont généralement définies par les autorités fiscales et peuvent varier en fonction du type de dépense et de la juridiction fiscale. Par exemple, les frais de scolarité, les frais médicaux et les frais de garde d'enfants peuvent être considérés comme des dépenses éligibles dans certaines juridictions.\n",
      "You are an expert MCQ maker. Given the above text, your job is to create a quiz of 5 multiple choice questions for dépenses éligibles students in simple tone. \n",
      "Make sure the questions are not repeated and check all the questions to be conformed to the text.\n",
      "Make sure to format your response like RESPONSE_JSON below and use it as a guide. Ensure to make 5 MCQs.\n",
      "### RESPONSE_JSON\n",
      "{'1': {'mcq': 'multiple choice question', 'options': {'a': 'choice here', 'b': 'choice here', 'c': 'choice here', 'd': 'choice here'}, 'correct': 'correct answer'}, '2': {'mcq': 'multiple choice question', 'options': {'a': 'choice here', 'b': 'choice here', 'c': 'choice here', 'd': 'choice here'}, 'correct': 'correct answer'}, '3': {'mcq': 'multiple choice question', 'options': {'a': 'choice here', 'b': 'choice here', 'c': 'choice here', 'd': 'choice here'}, 'correct': 'correct answer'}}\n",
      "\n",
      "### RESPONSE_JSON\n",
      "{\n",
      "'1': {'mcq': 'Which of the following expenses are considered eligible for a refund or tax deduction?', 'options': {'a': 'Fraises de scolarité', 'b': 'Frais de voyage', 'c': 'Frais de restauration', 'd': 'Frais de loyer'}, 'correct': 'a'},\n",
      "'2': {'mcq': 'Which of the following expenses are considered eligible for a refund or tax deduction in certain jurisdictions?', 'options': {'a': 'Frais de garde d'enfants', 'b': 'Frais de loisirs', 'c': 'Frais de transport', 'd': 'Frais de loyer'}, 'correct': 'a'},\n",
      "'3': {'mcq': 'Which of the following expenses are considered eligible for a refund or tax deduction in certain jurisdictions?', 'options': {'a': 'Frais médicaux', 'b': 'Frais de loisirs', 'c': 'Frais de restauration', 'd': 'Frais de loyer'}, 'correct': 'a'},\n",
      "'4': {'mcq': 'Which of the following expenses are considered eligible for a refund or tax deduction in certain jurisdictions?', 'options': {'a': 'Frais de scolarité', 'b': 'Frais de voyage', 'c': 'Frais de restauration', 'd': 'Frais de loyer'}, 'correct': 'a'},\n",
      "'5': {'mcq': 'Which of the following expenses are considered eligible for a refund or tax deduction in certain jurisdictions?', 'options': {'a': 'Frais de garde d'enfants', 'b': 'Frais de loisirs', 'c': 'Frais de transport', 'd': 'Frais de loyer'}, 'correct': 'a'}\n",
      "}\n"
     ]
    }
   ],
   "source": [
    "print(quiz_chain.run(text=\"Les dépenses éligibles sont les dépenses qui sont admissibles à un remboursement ou à une déduction fiscale. Ces dépenses sont généralement définies par les autorités fiscales et peuvent varier en fonction du type de dépense et de la juridiction fiscale. Par exemple, les frais de scolarité, les frais médicaux et les frais de garde d'enfants peuvent être considérés comme des dépenses éligibles dans certaines juridictions.\", number=5, subject=\"dépenses éligibles\", tone=\"simple\", response_json=RESPONSE_JSON))\n",
    "# print(quiz_chain.run(text=TEXT, number=5, subject=\"\", tone=\"simple\", response_json=RESPONSE_JSON))"
   ]
  },
  {
   "cell_type": "code",
   "execution_count": 96,
   "metadata": {},
   "outputs": [],
   "source": [
    "TEMPLATE2=\"\"\"\n",
    "You are an expert french grammarian and writer. Given a Multiple Choice Quiz for {subject} students.\\\n",
    "You need to evaluate the complexity of the question and give a complete analysis of the quiz. Only use at max 50 words for complexity analysis. \n",
    "if the quiz is not at per with the cognitive and analytical abilities of the students,\\\n",
    "update the quiz questions which needs to be changed and change the tone such that it perfectly fits the student abilities\n",
    "Quiz_MCQs:\n",
    "{quiz}\n",
    "\n",
    "Check from an expert French Writer of the above quiz:\n",
    "\"\"\""
   ]
  },
  {
   "cell_type": "code",
   "execution_count": 97,
   "metadata": {},
   "outputs": [],
   "source": [
    "quiz_evaluation_prompt = PromptTemplate(input_variables=[\"subject\", \"quiz\"], template=TEMPLATE2)"
   ]
  },
  {
   "cell_type": "code",
   "execution_count": 98,
   "metadata": {},
   "outputs": [],
   "source": [
    "review_chain=LLMChain(llm=llm3, prompt=quiz_evaluation_prompt, output_key=\"review\", verbose=True)"
   ]
  },
  {
   "cell_type": "code",
   "execution_count": 99,
   "metadata": {},
   "outputs": [],
   "source": [
    "generate_evaluate_chain = SequentialChain(chains=[quiz_chain, review_chain], input_variables=[\"text\", \"number\", \"subject\", \"tone\", \"response_json\"], output_variables=[\"quiz\", \"review\"], verbose=True)"
   ]
  },
  {
   "cell_type": "code",
   "execution_count": 100,
   "metadata": {},
   "outputs": [],
   "source": [
    "data_file_path = \"../data2.txt\""
   ]
  },
  {
   "cell_type": "code",
   "execution_count": 101,
   "metadata": {},
   "outputs": [],
   "source": [
    "with open(data_file_path, \"r\") as file:\n",
    "    TEXT = file.read()"
   ]
  },
  {
   "cell_type": "code",
   "execution_count": 102,
   "metadata": {},
   "outputs": [
    {
     "name": "stdout",
     "output_type": "stream",
     "text": [
      "Type de dépenses Principes\n",
      "Frais de personnel \n",
      "Salaires chargés (dont, frais de mission) du personnel du projet (non environnés) appartenant \n",
      "aux catégories suivantes : chercheurs (post-doc inclus), ingénieurs, techniciens et autres \n",
      "personnels d'appui s'ils sont employés pour le projet.\n",
      "5 https://www.green-algorithms.org/\n",
      "6 Comparaison expérimentale de logiciels de mesure d'énergie : côté GPU - Inria - Institut national de recherche en sciences et technologies \n",
      "du numérique (hal.science)\n",
      "7 Conformément à la réglementation européenne, les chefs de file des consortiums ne devront pas faire l’objet d’une injonction de récupération de mesure d’aide d’Etat \n",
      "émise dans une décision de la Commission européenne.\n",
      "Frais connexes Montant forfaitaire des dépenses de personnel (20% des salaires chargés non environnés).\n",
      "Dépenses d’achat ou de \n",
      "location de matériel \n",
      "informatique de calcul, de \n",
      "stockage\n",
      "Dans la mesure où et aussi longtemps qu'ils sont utilisés pour le projet, lorsque ces instruments \n",
      "et ce matériel ne sont pas utilisés pendant toute leur durée de vie dans le cadre du projet, \n",
      "seuls les coûts d'amortissement correspondant à la durée du projet, calculés conformément \n",
      "aux principes comptables généralement admis, sont jugés admissibles.\n",
      "Coûts de sous-traitance Coûts de prestations liés aux activités de R&D.\n",
      "Coûts des bâtiments et \n",
      "terrains \n",
      "Dans la mesure où et aussi longtemps qu'ils sont utilisés pour le projet. En ce qui concerne les \n",
      "bâtiments, seuls les coûts d'amortissement correspondant à la durée du projet, calculés \n",
      "conformément aux principes comptables généralement admis, sont jugés admissibles. Pour \n",
      "ce qui est des terrains, les frais de cession commerciale ou les coûts d'investissement \n",
      "effectivement supportés sont admissibles. \n",
      "Coûts de la recherche \n",
      "contractuelle des \n",
      "connaissances et des brevets \n",
      "acheté ou pris sous licence à \n",
      "des conditions de pleine \n",
      "concurrence\n",
      "Comprend également les coûts des services de conseil et des services équivalents utilisés \n",
      "exclusivement aux fins du projet.\n",
      "Contribution aux \n",
      "amortissements \n",
      "Coûts d'amortissements comptables des instruments et du matériel de R&D au prorata de leur \n",
      "utilisation dans le projet. \n",
      "Exemple : pour un équipement amorti de façon linéaire sur une durée de 10 ans, et utilisé à \n",
      "100% durant 2 ans pour le projet, le montant éligible à une aide sera égal à 2/10e du montant \n",
      "total de l’investissement dans cet équipement. \n",
      "Frais généraux additionnels et \n",
      "les autres frais d’exploitation\n",
      "Coûts des matériaux, fournitures et produits similaires, supportés directement du fait du \n",
      "projet. Ces frais généraux additionnels et autres frais d’exploitation liés aux projets de \n",
      "recherche et développement peuvent également être calculés sur la base d’une approche \n",
      "simplifiée des coûts sous forme d’un taux forfaitaire maximal de 20 % appliqué au total des \n",
      "coûts admissibles des projets de recherche et développement visés ci-dessus. Dans ce cas, les \n",
      "coûts des projets de recherche et développement utilisés pour le calcul des coûts indirects \n",
      "sont établis sur la base des pratiques comptables normales et comprennent uniquement les \n",
      "coûts des projets de recherche et développement admissibles visés ci-dessus.\n",
      "\n"
     ]
    }
   ],
   "source": [
    "print(TEXT)"
   ]
  },
  {
   "cell_type": "code",
   "execution_count": 103,
   "metadata": {},
   "outputs": [
    {
     "data": {
      "text/plain": [
       "'{\"1\": {\"mcq\": \"multiple choice question\", \"options\": {\"a\": \"choice here\", \"b\": \"choice here\", \"c\": \"choice here\", \"d\": \"choice here\"}, \"correct\": \"correct answer\"}, \"2\": {\"mcq\": \"multiple choice question\", \"options\": {\"a\": \"choice here\", \"b\": \"choice here\", \"c\": \"choice here\", \"d\": \"choice here\"}, \"correct\": \"correct answer\"}, \"3\": {\"mcq\": \"multiple choice question\", \"options\": {\"a\": \"choice here\", \"b\": \"choice here\", \"c\": \"choice here\", \"d\": \"choice here\"}, \"correct\": \"correct answer\"}}'"
      ]
     },
     "execution_count": 103,
     "metadata": {},
     "output_type": "execute_result"
    }
   ],
   "source": [
    "# Serilize the python dictionnary into a json-formatted string\n",
    "json.dumps(RESPONSE_JSON)"
   ]
  },
  {
   "cell_type": "code",
   "execution_count": 104,
   "metadata": {},
   "outputs": [],
   "source": [
    "NUMBER=5 \n",
    "SUBJECT=\"Generative AI model architectures and how they have evolved\"\n",
    "SUBJECT=\"dépenses éligibles\"\n",
    "TONE=\"simple\""
   ]
  },
  {
   "cell_type": "markdown",
   "metadata": {},
   "source": [
    "How to setup [Token Usage Tracking](https://python.langchain.com/docs/modules/model_io/llms/token_usage_tracking) in LangChain:"
   ]
  },
  {
   "cell_type": "code",
   "execution_count": 105,
   "metadata": {},
   "outputs": [
    {
     "name": "stdout",
     "output_type": "stream",
     "text": [
      "\n",
      "\n",
      "\u001b[1m> Entering new SequentialChain chain...\u001b[0m\n",
      "\n",
      "\n",
      "\u001b[1m> Entering new LLMChain chain...\u001b[0m\n",
      "Prompt after formatting:\n",
      "\u001b[32;1m\u001b[1;3m\n",
      "Text:Type de dépenses Principes\n",
      "Frais de personnel \n",
      "Salaires chargés (dont, frais de mission) du personnel du projet (non environnés) appartenant \n",
      "aux catégories suivantes : chercheurs (post-doc inclus), ingénieurs, techniciens et autres \n",
      "personnels d'appui s'ils sont employés pour le projet.\n",
      "5 https://www.green-algorithms.org/\n",
      "6 Comparaison expérimentale de logiciels de mesure d'énergie : côté GPU - Inria - Institut national de recherche en sciences et technologies \n",
      "du numérique (hal.science)\n",
      "7 Conformément à la réglementation européenne, les chefs de file des consortiums ne devront pas faire l’objet d’une injonction de récupération de mesure d’aide d’Etat \n",
      "émise dans une décision de la Commission européenne.\n",
      "Frais connexes Montant forfaitaire des dépenses de personnel (20% des salaires chargés non environnés).\n",
      "Dépenses d’achat ou de \n",
      "location de matériel \n",
      "informatique de calcul, de \n",
      "stockage\n",
      "Dans la mesure où et aussi longtemps qu'ils sont utilisés pour le projet, lorsque ces instruments \n",
      "et ce matériel ne sont pas utilisés pendant toute leur durée de vie dans le cadre du projet, \n",
      "seuls les coûts d'amortissement correspondant à la durée du projet, calculés conformément \n",
      "aux principes comptables généralement admis, sont jugés admissibles.\n",
      "Coûts de sous-traitance Coûts de prestations liés aux activités de R&D.\n",
      "Coûts des bâtiments et \n",
      "terrains \n",
      "Dans la mesure où et aussi longtemps qu'ils sont utilisés pour le projet. En ce qui concerne les \n",
      "bâtiments, seuls les coûts d'amortissement correspondant à la durée du projet, calculés \n",
      "conformément aux principes comptables généralement admis, sont jugés admissibles. Pour \n",
      "ce qui est des terrains, les frais de cession commerciale ou les coûts d'investissement \n",
      "effectivement supportés sont admissibles. \n",
      "Coûts de la recherche \n",
      "contractuelle des \n",
      "connaissances et des brevets \n",
      "acheté ou pris sous licence à \n",
      "des conditions de pleine \n",
      "concurrence\n",
      "Comprend également les coûts des services de conseil et des services équivalents utilisés \n",
      "exclusivement aux fins du projet.\n",
      "Contribution aux \n",
      "amortissements \n",
      "Coûts d'amortissements comptables des instruments et du matériel de R&D au prorata de leur \n",
      "utilisation dans le projet. \n",
      "Exemple : pour un équipement amorti de façon linéaire sur une durée de 10 ans, et utilisé à \n",
      "100% durant 2 ans pour le projet, le montant éligible à une aide sera égal à 2/10e du montant \n",
      "total de l’investissement dans cet équipement. \n",
      "Frais généraux additionnels et \n",
      "les autres frais d’exploitation\n",
      "Coûts des matériaux, fournitures et produits similaires, supportés directement du fait du \n",
      "projet. Ces frais généraux additionnels et autres frais d’exploitation liés aux projets de \n",
      "recherche et développement peuvent également être calculés sur la base d’une approche \n",
      "simplifiée des coûts sous forme d’un taux forfaitaire maximal de 20 % appliqué au total des \n",
      "coûts admissibles des projets de recherche et développement visés ci-dessus. Dans ce cas, les \n",
      "coûts des projets de recherche et développement utilisés pour le calcul des coûts indirects \n",
      "sont établis sur la base des pratiques comptables normales et comprennent uniquement les \n",
      "coûts des projets de recherche et développement admissibles visés ci-dessus.\n",
      "\n",
      "You are an expert MCQ maker. Given the above text, your job is to create a quiz of 5 multiple choice questions for dépenses éligibles students in simple tone. \n",
      "Make sure the questions are not repeated and check all the questions to be conformed to the text.\n",
      "Make sure to format your response like RESPONSE_JSON below and use it as a guide. Ensure to make 5 MCQs.\n",
      "### RESPONSE_JSON\n",
      "{\"1\": {\"mcq\": \"multiple choice question\", \"options\": {\"a\": \"choice here\", \"b\": \"choice here\", \"c\": \"choice here\", \"d\": \"choice here\"}, \"correct\": \"correct answer\"}, \"2\": {\"mcq\": \"multiple choice question\", \"options\": {\"a\": \"choice here\", \"b\": \"choice here\", \"c\": \"choice here\", \"d\": \"choice here\"}, \"correct\": \"correct answer\"}, \"3\": {\"mcq\": \"multiple choice question\", \"options\": {\"a\": \"choice here\", \"b\": \"choice here\", \"c\": \"choice here\", \"d\": \"choice here\"}, \"correct\": \"correct answer\"}}\n",
      "\n",
      "\u001b[0m\n",
      "\n",
      "\u001b[1m> Finished chain.\u001b[0m\n",
      "\n",
      "\n",
      "\u001b[1m> Entering new LLMChain chain...\u001b[0m\n",
      "Prompt after formatting:\n",
      "\u001b[32;1m\u001b[1;3m\n",
      "You are an expert french grammarian and writer. Given a Multiple Choice Quiz for dépenses éligibles students.You need to evaluate the complexity of the question and give a complete analysis of the quiz. Only use at max 50 words for complexity analysis. \n",
      "if the quiz is not at per with the cognitive and analytical abilities of the students,update the quiz questions which needs to be changed and change the tone such that it perfectly fits the student abilities\n",
      "Quiz_MCQs:\n",
      "\n",
      "Text:Type de dépenses Principes\n",
      "Frais de personnel \n",
      "Salaires chargés (dont, frais de mission) du personnel du projet (non environnés) appartenant \n",
      "aux catégories suivantes : chercheurs (post-doc inclus), ingénieurs, techniciens et autres \n",
      "personnels d'appui s'ils sont employés pour le projet.\n",
      "5 https://www.green-algorithms.org/\n",
      "6 Comparaison expérimentale de logiciels de mesure d'énergie : côté GPU - Inria - Institut national de recherche en sciences et technologies \n",
      "du numérique (hal.science)\n",
      "7 Conformément à la réglementation européenne, les chefs de file des consortiums ne devront pas faire l’objet d’une injonction de récupération de mesure d’aide d’Etat \n",
      "émise dans une décision de la Commission européenne.\n",
      "Frais connexes Montant forfaitaire des dépenses de personnel (20% des salaires chargés non environnés).\n",
      "Dépenses d’achat ou de \n",
      "location de matériel \n",
      "informatique de calcul, de \n",
      "stockage\n",
      "Dans la mesure où et aussi longtemps qu'ils sont utilisés pour le projet, lorsque ces instruments \n",
      "et ce matériel ne sont pas utilisés pendant toute leur durée de vie dans le cadre du projet, \n",
      "seuls les coûts d'amortissement correspondant à la durée du projet, calculés conformément \n",
      "aux principes comptables généralement admis, sont jugés admissibles.\n",
      "Coûts de sous-traitance Coûts de prestations liés aux activités de R&D.\n",
      "Coûts des bâtiments et \n",
      "terrains \n",
      "Dans la mesure où et aussi longtemps qu'ils sont utilisés pour le projet. En ce qui concerne les \n",
      "bâtiments, seuls les coûts d'amortissement correspondant à la durée du projet, calculés \n",
      "conformément aux principes comptables généralement admis, sont jugés admissibles. Pour \n",
      "ce qui est des terrains, les frais de cession commerciale ou les coûts d'investissement \n",
      "effectivement supportés sont admissibles. \n",
      "Coûts de la recherche \n",
      "contractuelle des \n",
      "connaissances et des brevets \n",
      "acheté ou pris sous licence à \n",
      "des conditions de pleine \n",
      "concurrence\n",
      "Comprend également les coûts des services de conseil et des services équivalents utilisés \n",
      "exclusivement aux fins du projet.\n",
      "Contribution aux \n",
      "amortissements \n",
      "Coûts d'amortissements comptables des instruments et du matériel de R&D au prorata de leur \n",
      "utilisation dans le projet. \n",
      "Exemple : pour un équipement amorti de façon linéaire sur une durée de 10 ans, et utilisé à \n",
      "100% durant 2 ans pour le projet, le montant éligible à une aide sera égal à 2/10e du montant \n",
      "total de l’investissement dans cet équipement. \n",
      "Frais généraux additionnels et \n",
      "les autres frais d’exploitation\n",
      "Coûts des matériaux, fournitures et produits similaires, supportés directement du fait du \n",
      "projet. Ces frais généraux additionnels et autres frais d’exploitation liés aux projets de \n",
      "recherche et développement peuvent également être calculés sur la base d’une approche \n",
      "simplifiée des coûts sous forme d’un taux forfaitaire maximal de 20 % appliqué au total des \n",
      "coûts admissibles des projets de recherche et développement visés ci-dessus. Dans ce cas, les \n",
      "coûts des projets de recherche et développement utilisés pour le calcul des coûts indirects \n",
      "sont établis sur la base des pratiques comptables normales et comprennent uniquement les \n",
      "coûts des projets de recherche et développement admissibles visés ci-dessus.\n",
      "\n",
      "You are an expert MCQ maker. Given the above text, your job is to create a quiz of 5 multiple choice questions for dépenses éligibles students in simple tone. \n",
      "Make sure the questions are not repeated and check all the questions to be conformed to the text.\n",
      "Make sure to format your response like RESPONSE_JSON below and use it as a guide. Ensure to make 5 MCQs.\n",
      "### RESPONSE_JSON\n",
      "{\"1\": {\"mcq\": \"multiple choice question\", \"options\": {\"a\": \"choice here\", \"b\": \"choice here\", \"c\": \"choice here\", \"d\": \"choice here\"}, \"correct\": \"correct answer\"}, \"2\": {\"mcq\": \"multiple choice question\", \"options\": {\"a\": \"choice here\", \"b\": \"choice here\", \"c\": \"choice here\", \"d\": \"choice here\"}, \"correct\": \"correct answer\"}, \"3\": {\"mcq\": \"multiple choice question\", \"options\": {\"a\": \"choice here\", \"b\": \"choice here\", \"c\": \"choice here\", \"d\": \"choice here\"}, \"correct\": \"correct answer\"}}\n",
      "\n",
      "### MCQs\n",
      "{\n",
      "\"1\": {\"mcq\": \"Which of the following personnel costs are eligible for funding?\", \"options\": {\"a\": \"Salaries of administrative staff\", \"b\": \"Salaries of researchers, engineers, technicians, and other support staff employed for the project\", \"c\": \"Salaries of managers\", \"d\": \"Salaries of interns\"}, \"correct\": \"b\"},\n",
      "\"2\": {\"mcq\": \"What percentage of non-environmented personnel salaries are considered as eligible expenses?\", \"options\": {\"a\": \"10%\", \"b\": \"20%\", \"c\": \"50%\", \"d\": \"100%\"}, \"correct\": \"b\"},\n",
      "\"3\": {\"mcq\": \"Which of the following costs are eligible for funding as long as they are used for the project?\", \"options\": {\"a\": \"Costs of office supplies\", \"b\": \"Costs of office rent\", \"c\": \"Costs of office furniture\", \"d\": \"Costs of office equipment\"}, \"correct\": \"d\"},\n",
      "\"4\": {\"mcq\": \"Which of the following costs are eligible for funding as long as they are used for the project?\", \"options\": {\"a\": \"Costs of software licenses\", \"b\": \"Costs of hardware\", \"c\": \"Costs of server rent\", \"d\": \"Costs of internet service\"}, \"correct\": \"b\"},\n",
      "\"5\": {\"mcq\": \"Which of the following costs are eligible for funding as long as they are used for the project?\", \"options\": {\"a\": \"Costs of research contracts\", \"b\": \"Costs of patent fees\", \"c\": \"Costs of consulting fees\", \"d\": \"Costs of legal fees\"}, \"correct\": \"a\"}\n",
      "}\n",
      "\n",
      "Check from an expert French Writer of the above quiz:\n",
      "\u001b[0m\n",
      "\n",
      "\u001b[1m> Finished chain.\u001b[0m\n",
      "\n",
      "\u001b[1m> Finished chain.\u001b[0m\n"
     ]
    }
   ],
   "source": [
    "with get_openai_callback() as cb:\n",
    "    response=generate_evaluate_chain(\n",
    "        {\n",
    "            \"text\": TEXT,\n",
    "            \"number\": NUMBER,\n",
    "            \"subject\": SUBJECT,\n",
    "            \"tone\": TONE,\n",
    "            \"response_json\": json.dumps(RESPONSE_JSON)\n",
    "        }\n",
    "    )"
   ]
  },
  {
   "cell_type": "code",
   "execution_count": 106,
   "metadata": {},
   "outputs": [
    {
     "name": "stdout",
     "output_type": "stream",
     "text": [
      "Total Tokens:0\n",
      "Prompt Tokens:0\n",
      "Completion Tokens:0\n",
      "Total Cost:0.0\n"
     ]
    }
   ],
   "source": [
    "print(f\"Total Tokens:{cb.total_tokens}\")\n",
    "print(f\"Prompt Tokens:{cb.prompt_tokens}\")\n",
    "print(f\"Completion Tokens:{cb.completion_tokens}\")\n",
    "print(f\"Total Cost:{cb.total_cost}\")"
   ]
  },
  {
   "cell_type": "code",
   "execution_count": 107,
   "metadata": {},
   "outputs": [
    {
     "data": {
      "text/plain": [
       "{'text': \"Type de dépenses Principes\\nFrais de personnel \\nSalaires chargés (dont, frais de mission) du personnel du projet (non environnés) appartenant \\naux catégories suivantes : chercheurs (post-doc inclus), ingénieurs, techniciens et autres \\npersonnels d'appui s'ils sont employés pour le projet.\\n5 https://www.green-algorithms.org/\\n6 Comparaison expérimentale de logiciels de mesure d'énergie : côté GPU - Inria - Institut national de recherche en sciences et technologies \\ndu numérique (hal.science)\\n7 Conformément à la réglementation européenne, les chefs de file des consortiums ne devront pas faire l’objet d’une injonction de récupération de mesure d’aide d’Etat \\némise dans une décision de la Commission européenne.\\nFrais connexes Montant forfaitaire des dépenses de personnel (20% des salaires chargés non environnés).\\nDépenses d’achat ou de \\nlocation de matériel \\ninformatique de calcul, de \\nstockage\\nDans la mesure où et aussi longtemps qu'ils sont utilisés pour le projet, lorsque ces instruments \\net ce matériel ne sont pas utilisés pendant toute leur durée de vie dans le cadre du projet, \\nseuls les coûts d'amortissement correspondant à la durée du projet, calculés conformément \\naux principes comptables généralement admis, sont jugés admissibles.\\nCoûts de sous-traitance Coûts de prestations liés aux activités de R&D.\\nCoûts des bâtiments et \\nterrains \\nDans la mesure où et aussi longtemps qu'ils sont utilisés pour le projet. En ce qui concerne les \\nbâtiments, seuls les coûts d'amortissement correspondant à la durée du projet, calculés \\nconformément aux principes comptables généralement admis, sont jugés admissibles. Pour \\nce qui est des terrains, les frais de cession commerciale ou les coûts d'investissement \\neffectivement supportés sont admissibles. \\nCoûts de la recherche \\ncontractuelle des \\nconnaissances et des brevets \\nacheté ou pris sous licence à \\ndes conditions de pleine \\nconcurrence\\nComprend également les coûts des services de conseil et des services équivalents utilisés \\nexclusivement aux fins du projet.\\nContribution aux \\namortissements \\nCoûts d'amortissements comptables des instruments et du matériel de R&D au prorata de leur \\nutilisation dans le projet. \\nExemple : pour un équipement amorti de façon linéaire sur une durée de 10 ans, et utilisé à \\n100% durant 2 ans pour le projet, le montant éligible à une aide sera égal à 2/10e du montant \\ntotal de l’investissement dans cet équipement. \\nFrais généraux additionnels et \\nles autres frais d’exploitation\\nCoûts des matériaux, fournitures et produits similaires, supportés directement du fait du \\nprojet. Ces frais généraux additionnels et autres frais d’exploitation liés aux projets de \\nrecherche et développement peuvent également être calculés sur la base d’une approche \\nsimplifiée des coûts sous forme d’un taux forfaitaire maximal de 20 % appliqué au total des \\ncoûts admissibles des projets de recherche et développement visés ci-dessus. Dans ce cas, les \\ncoûts des projets de recherche et développement utilisés pour le calcul des coûts indirects \\nsont établis sur la base des pratiques comptables normales et comprennent uniquement les \\ncoûts des projets de recherche et développement admissibles visés ci-dessus.\\n\",\n",
       " 'number': 5,\n",
       " 'subject': 'dépenses éligibles',\n",
       " 'tone': 'simple',\n",
       " 'response_json': '{\"1\": {\"mcq\": \"multiple choice question\", \"options\": {\"a\": \"choice here\", \"b\": \"choice here\", \"c\": \"choice here\", \"d\": \"choice here\"}, \"correct\": \"correct answer\"}, \"2\": {\"mcq\": \"multiple choice question\", \"options\": {\"a\": \"choice here\", \"b\": \"choice here\", \"c\": \"choice here\", \"d\": \"choice here\"}, \"correct\": \"correct answer\"}, \"3\": {\"mcq\": \"multiple choice question\", \"options\": {\"a\": \"choice here\", \"b\": \"choice here\", \"c\": \"choice here\", \"d\": \"choice here\"}, \"correct\": \"correct answer\"}}',\n",
       " 'quiz': '\\nText:Type de dépenses Principes\\nFrais de personnel \\nSalaires chargés (dont, frais de mission) du personnel du projet (non environnés) appartenant \\naux catégories suivantes : chercheurs (post-doc inclus), ingénieurs, techniciens et autres \\npersonnels d\\'appui s\\'ils sont employés pour le projet.\\n5 https://www.green-algorithms.org/\\n6 Comparaison expérimentale de logiciels de mesure d\\'énergie : côté GPU - Inria - Institut national de recherche en sciences et technologies \\ndu numérique (hal.science)\\n7 Conformément à la réglementation européenne, les chefs de file des consortiums ne devront pas faire l’objet d’une injonction de récupération de mesure d’aide d’Etat \\némise dans une décision de la Commission européenne.\\nFrais connexes Montant forfaitaire des dépenses de personnel (20% des salaires chargés non environnés).\\nDépenses d’achat ou de \\nlocation de matériel \\ninformatique de calcul, de \\nstockage\\nDans la mesure où et aussi longtemps qu\\'ils sont utilisés pour le projet, lorsque ces instruments \\net ce matériel ne sont pas utilisés pendant toute leur durée de vie dans le cadre du projet, \\nseuls les coûts d\\'amortissement correspondant à la durée du projet, calculés conformément \\naux principes comptables généralement admis, sont jugés admissibles.\\nCoûts de sous-traitance Coûts de prestations liés aux activités de R&D.\\nCoûts des bâtiments et \\nterrains \\nDans la mesure où et aussi longtemps qu\\'ils sont utilisés pour le projet. En ce qui concerne les \\nbâtiments, seuls les coûts d\\'amortissement correspondant à la durée du projet, calculés \\nconformément aux principes comptables généralement admis, sont jugés admissibles. Pour \\nce qui est des terrains, les frais de cession commerciale ou les coûts d\\'investissement \\neffectivement supportés sont admissibles. \\nCoûts de la recherche \\ncontractuelle des \\nconnaissances et des brevets \\nacheté ou pris sous licence à \\ndes conditions de pleine \\nconcurrence\\nComprend également les coûts des services de conseil et des services équivalents utilisés \\nexclusivement aux fins du projet.\\nContribution aux \\namortissements \\nCoûts d\\'amortissements comptables des instruments et du matériel de R&D au prorata de leur \\nutilisation dans le projet. \\nExemple : pour un équipement amorti de façon linéaire sur une durée de 10 ans, et utilisé à \\n100% durant 2 ans pour le projet, le montant éligible à une aide sera égal à 2/10e du montant \\ntotal de l’investissement dans cet équipement. \\nFrais généraux additionnels et \\nles autres frais d’exploitation\\nCoûts des matériaux, fournitures et produits similaires, supportés directement du fait du \\nprojet. Ces frais généraux additionnels et autres frais d’exploitation liés aux projets de \\nrecherche et développement peuvent également être calculés sur la base d’une approche \\nsimplifiée des coûts sous forme d’un taux forfaitaire maximal de 20 % appliqué au total des \\ncoûts admissibles des projets de recherche et développement visés ci-dessus. Dans ce cas, les \\ncoûts des projets de recherche et développement utilisés pour le calcul des coûts indirects \\nsont établis sur la base des pratiques comptables normales et comprennent uniquement les \\ncoûts des projets de recherche et développement admissibles visés ci-dessus.\\n\\nYou are an expert MCQ maker. Given the above text, your job is to create a quiz of 5 multiple choice questions for dépenses éligibles students in simple tone. \\nMake sure the questions are not repeated and check all the questions to be conformed to the text.\\nMake sure to format your response like RESPONSE_JSON below and use it as a guide. Ensure to make 5 MCQs.\\n### RESPONSE_JSON\\n{\"1\": {\"mcq\": \"multiple choice question\", \"options\": {\"a\": \"choice here\", \"b\": \"choice here\", \"c\": \"choice here\", \"d\": \"choice here\"}, \"correct\": \"correct answer\"}, \"2\": {\"mcq\": \"multiple choice question\", \"options\": {\"a\": \"choice here\", \"b\": \"choice here\", \"c\": \"choice here\", \"d\": \"choice here\"}, \"correct\": \"correct answer\"}, \"3\": {\"mcq\": \"multiple choice question\", \"options\": {\"a\": \"choice here\", \"b\": \"choice here\", \"c\": \"choice here\", \"d\": \"choice here\"}, \"correct\": \"correct answer\"}}\\n\\n### MCQs\\n{\\n\"1\": {\"mcq\": \"Which of the following personnel costs are eligible for funding?\", \"options\": {\"a\": \"Salaries of administrative staff\", \"b\": \"Salaries of researchers, engineers, technicians, and other support staff employed for the project\", \"c\": \"Salaries of managers\", \"d\": \"Salaries of interns\"}, \"correct\": \"b\"},\\n\"2\": {\"mcq\": \"What percentage of non-environmented personnel salaries are considered as eligible expenses?\", \"options\": {\"a\": \"10%\", \"b\": \"20%\", \"c\": \"50%\", \"d\": \"100%\"}, \"correct\": \"b\"},\\n\"3\": {\"mcq\": \"Which of the following costs are eligible for funding as long as they are used for the project?\", \"options\": {\"a\": \"Costs of office supplies\", \"b\": \"Costs of office rent\", \"c\": \"Costs of office furniture\", \"d\": \"Costs of office equipment\"}, \"correct\": \"d\"},\\n\"4\": {\"mcq\": \"Which of the following costs are eligible for funding as long as they are used for the project?\", \"options\": {\"a\": \"Costs of software licenses\", \"b\": \"Costs of hardware\", \"c\": \"Costs of server rent\", \"d\": \"Costs of internet service\"}, \"correct\": \"b\"},\\n\"5\": {\"mcq\": \"Which of the following costs are eligible for funding as long as they are used for the project?\", \"options\": {\"a\": \"Costs of research contracts\", \"b\": \"Costs of patent fees\", \"c\": \"Costs of consulting fees\", \"d\": \"Costs of legal fees\"}, \"correct\": \"a\"}\\n}',\n",
       " 'review': '\\nYou are an expert french grammarian and writer. Given a Multiple Choice Quiz for dépenses éligibles students.You need to evaluate the complexity of the question and give a complete analysis of the quiz. Only use at max 50 words for complexity analysis. \\nif the quiz is not at per with the cognitive and analytical abilities of the students,update the quiz questions which needs to be changed and change the tone such that it perfectly fits the student abilities\\nQuiz_MCQs:\\n\\nText:Type de dépenses Principes\\nFrais de personnel \\nSalaires chargés (dont, frais de mission) du personnel du projet (non environnés) appartenant \\naux catégories suivantes : chercheurs (post-doc inclus), ingénieurs, techniciens et autres \\npersonnels d\\'appui s\\'ils sont employés pour le projet.\\n5 https://www.green-algorithms.org/\\n6 Comparaison expérimentale de logiciels de mesure d\\'énergie : côté GPU - Inria - Institut national de recherche en sciences et technologies \\ndu numérique (hal.science)\\n7 Conformément à la réglementation européenne, les chefs de file des consortiums ne devront pas faire l’objet d’une injonction de récupération de mesure d’aide d’Etat \\némise dans une décision de la Commission européenne.\\nFrais connexes Montant forfaitaire des dépenses de personnel (20% des salaires chargés non environnés).\\nDépenses d’achat ou de \\nlocation de matériel \\ninformatique de calcul, de \\nstockage\\nDans la mesure où et aussi longtemps qu\\'ils sont utilisés pour le projet, lorsque ces instruments \\net ce matériel ne sont pas utilisés pendant toute leur durée de vie dans le cadre du projet, \\nseuls les coûts d\\'amortissement correspondant à la durée du projet, calculés conformément \\naux principes comptables généralement admis, sont jugés admissibles.\\nCoûts de sous-traitance Coûts de prestations liés aux activités de R&D.\\nCoûts des bâtiments et \\nterrains \\nDans la mesure où et aussi longtemps qu\\'ils sont utilisés pour le projet. En ce qui concerne les \\nbâtiments, seuls les coûts d\\'amortissement correspondant à la durée du projet, calculés \\nconformément aux principes comptables généralement admis, sont jugés admissibles. Pour \\nce qui est des terrains, les frais de cession commerciale ou les coûts d\\'investissement \\neffectivement supportés sont admissibles. \\nCoûts de la recherche \\ncontractuelle des \\nconnaissances et des brevets \\nacheté ou pris sous licence à \\ndes conditions de pleine \\nconcurrence\\nComprend également les coûts des services de conseil et des services équivalents utilisés \\nexclusivement aux fins du projet.\\nContribution aux \\namortissements \\nCoûts d\\'amortissements comptables des instruments et du matériel de R&D au prorata de leur \\nutilisation dans le projet. \\nExemple : pour un équipement amorti de façon linéaire sur une durée de 10 ans, et utilisé à \\n100% durant 2 ans pour le projet, le montant éligible à une aide sera égal à 2/10e du montant \\ntotal de l’investissement dans cet équipement. \\nFrais généraux additionnels et \\nles autres frais d’exploitation\\nCoûts des matériaux, fournitures et produits similaires, supportés directement du fait du \\nprojet. Ces frais généraux additionnels et autres frais d’exploitation liés aux projets de \\nrecherche et développement peuvent également être calculés sur la base d’une approche \\nsimplifiée des coûts sous forme d’un taux forfaitaire maximal de 20 % appliqué au total des \\ncoûts admissibles des projets de recherche et développement visés ci-dessus. Dans ce cas, les \\ncoûts des projets de recherche et développement utilisés pour le calcul des coûts indirects \\nsont établis sur la base des pratiques comptables normales et comprennent uniquement les \\ncoûts des projets de recherche et développement admissibles visés ci-dessus.\\n\\nYou are an expert MCQ maker. Given the above text, your job is to create a quiz of 5 multiple choice questions for dépenses éligibles students in simple tone. \\nMake sure the questions are not repeated and check all the questions to be conformed to the text.\\nMake sure to format your response like RESPONSE_JSON below and use it as a guide. Ensure to make 5 MCQs.\\n### RESPONSE_JSON\\n{\"1\": {\"mcq\": \"multiple choice question\", \"options\": {\"a\": \"choice here\", \"b\": \"choice here\", \"c\": \"choice here\", \"d\": \"choice here\"}, \"correct\": \"correct answer\"}, \"2\": {\"mcq\": \"multiple choice question\", \"options\": {\"a\": \"choice here\", \"b\": \"choice here\", \"c\": \"choice here\", \"d\": \"choice here\"}, \"correct\": \"correct answer\"}, \"3\": {\"mcq\": \"multiple choice question\", \"options\": {\"a\": \"choice here\", \"b\": \"choice here\", \"c\": \"choice here\", \"d\": \"choice here\"}, \"correct\": \"correct answer\"}}\\n\\n### MCQs\\n{\\n\"1\": {\"mcq\": \"Which of the following personnel costs are eligible for funding?\", \"options\": {\"a\": \"Salaries of administrative staff\", \"b\": \"Salaries of researchers, engineers, technicians, and other support staff employed for the project\", \"c\": \"Salaries of managers\", \"d\": \"Salaries of interns\"}, \"correct\": \"b\"},\\n\"2\": {\"mcq\": \"What percentage of non-environmented personnel salaries are considered as eligible expenses?\", \"options\": {\"a\": \"10%\", \"b\": \"20%\", \"c\": \"50%\", \"d\": \"100%\"}, \"correct\": \"b\"},\\n\"3\": {\"mcq\": \"Which of the following costs are eligible for funding as long as they are used for the project?\", \"options\": {\"a\": \"Costs of office supplies\", \"b\": \"Costs of office rent\", \"c\": \"Costs of office furniture\", \"d\": \"Costs of office equipment\"}, \"correct\": \"d\"},\\n\"4\": {\"mcq\": \"Which of the following costs are eligible for funding as long as they are used for the project?\", \"options\": {\"a\": \"Costs of software licenses\", \"b\": \"Costs of hardware\", \"c\": \"Costs of server rent\", \"d\": \"Costs of internet service\"}, \"correct\": \"b\"},\\n\"5\": {\"mcq\": \"Which of the following costs are eligible for funding as long as they are used for the project?\", \"options\": {\"a\": \"Costs of research contracts\", \"b\": \"Costs of patent fees\", \"c\": \"Costs of consulting fees\", \"d\": \"Costs of legal fees\"}, \"correct\": \"a\"}\\n}\\n\\nCheck from an expert French Writer of the above quiz:\\nThe quiz is well-structured and clear, but it may be too complex for some students due to the technical nature of the topics. To make it more accessible, I would suggest simplifying the language and providing more examples to illustrate the concepts. Here\\'s an updated version of the quiz:\\n\\n{\\n\"1\": {\"mcq\": \"Which of the following personnel costs are eligible for funding?\", \"options\": {\"a\": \"Salaries of administrative staff\", \"b\": \"Salaries of researchers, engineers, technicians, and other support staff employed for the project\", \"c\": \"Salaries of managers\", \"d\": \"Salaries of interns\"}, \"correct\": \"b\"},\\n\"2\": {\"mcq\": \"What percentage of non-environmented personnel salaries are considered as eligible expenses?\", \"options\": {\"a\": \"10%\", \"b\": \"20%\", \"c\": \"50%\", \"d\": \"100%\"}, \"correct\": \"b\"},\\n\"3\": {\"mcq\": \"Which of the following costs are eligible for funding as long as they are used for the project?\", \"options\": {\"a\": \"Costs of office supplies\", \"b\": \"Costs of office rent\", \"c\": \"Costs of office furniture\", \"d\": \"Costs of office equipment\"}, \"correct\": \"d\"},\\n\"4\": {\"mcq\": \"Which of the following costs are eligible for funding as long as they are used for the project?\", \"options\": {\"a\": \"Costs of software licenses\", \"b\": \"Costs of hardware\", \"c\": \"Costs of server rent\", \"d\": \"Costs of internet service\"}, \"correct\": \"b\"},\\n\"5\": {\"mcq\": \"Which of the following costs are eligible for funding as long as they are used for the project?\", \"options\": {\"a\": \"Costs of research contracts\", \"b\": \"Costs of patent fees\", \"c\": \"Costs of consulting fees\", \"d\": \"Costs of legal fees\"}, \"correct\": \"a\"}\\n}\\n\\nIn this updated version, I have simplified the language and provided more straightforward options. I have also ensured that the questions are not repeated and are conformed to the text.'}"
      ]
     },
     "execution_count": 107,
     "metadata": {},
     "output_type": "execute_result"
    }
   ],
   "source": [
    "response"
   ]
  },
  {
   "cell_type": "code",
   "execution_count": 59,
   "metadata": {},
   "outputs": [],
   "source": [
    "quiz_str = response.get(\"quiz\")"
   ]
  },
  {
   "cell_type": "code",
   "execution_count": 66,
   "metadata": {},
   "outputs": [],
   "source": [
    "quiz_dict = json.loads(quiz_str)"
   ]
  },
  {
   "cell_type": "code",
   "execution_count": 67,
   "metadata": {},
   "outputs": [
    {
     "data": {
      "text/plain": [
       "{'1': {'mcq': 'Which generative AI model architecture was introduced in 2013 and can encode data like an autoencoder but decode multiple new variations of the content?',\n",
       "  'options': {'a': 'Generative adversarial networks (GANs)',\n",
       "   'b': 'Transformers',\n",
       "   'c': 'Variational autoencoders (VAEs)',\n",
       "   'd': 'Diffusion models'},\n",
       "  'correct': 'c'},\n",
       " '2': {'mcq': \"Which generative AI model architecture works by first adding noise to the training data until it's random and unrecognizable, and then training the algorithm to iteratively diffuse the noise to reveal a desired output?\",\n",
       "  'options': {'a': 'Generative adversarial networks (GANs)',\n",
       "   'b': 'Transformers',\n",
       "   'c': 'Variational autoencoders (VAEs)',\n",
       "   'd': 'Diffusion models'},\n",
       "  'correct': 'd'},\n",
       " '3': {'mcq': \"Which generative AI model architecture was first documented in a 2017 paper published by Ashish Vaswani and others, and is at the core of most of today's headline-making generative AI tools?\",\n",
       "  'options': {'a': 'Generative adversarial networks (GANs)',\n",
       "   'b': 'Transformers',\n",
       "   'c': 'Variational autoencoders (VAEs)',\n",
       "   'd': 'Diffusion models'},\n",
       "  'correct': 'b'},\n",
       " '4': {'mcq': 'Which generative AI model architecture excels at natural language processing (NLP) and natural language understanding (NLU), and can generate longer sequences of data with greater accuracy and higher quality than other deep generative AI models?',\n",
       "  'options': {'a': 'Generative adversarial networks (GANs)',\n",
       "   'b': 'Transformers',\n",
       "   'c': 'Variational autoencoders (VAEs)',\n",
       "   'd': 'Diffusion models'},\n",
       "  'correct': 'b'},\n",
       " '5': {'mcq': 'Which generative AI model architecture is driven by a diffusion model and is used as an image-generation tool by Open AI?',\n",
       "  'options': {'a': 'Generative adversarial networks (GANs)',\n",
       "   'b': 'Transformers',\n",
       "   'c': 'Variational autoencoders (VAEs)',\n",
       "   'd': 'Diffusion models'},\n",
       "  'correct': 'd'}}"
      ]
     },
     "execution_count": 67,
     "metadata": {},
     "output_type": "execute_result"
    }
   ],
   "source": [
    "quiz_dict"
   ]
  },
  {
   "cell_type": "code",
   "execution_count": 61,
   "metadata": {},
   "outputs": [],
   "source": [
    "quiz_table_data = []\n",
    "for key, value in quiz_dict.items():\n",
    "    mcq = value[\"mcq\"]\n",
    "    options = \" | \".join(\n",
    "        [\n",
    "            f\"{option}: {option_value}\"\n",
    "            for option, option_value in value[\"options\"].items()\n",
    "            ]\n",
    "        )\n",
    "    correct = value[\"correct\"]\n",
    "    quiz_table_data.append({\"MCQ\": mcq, \"Choices\": options, \"Correct\": correct})"
   ]
  },
  {
   "cell_type": "code",
   "execution_count": 62,
   "metadata": {},
   "outputs": [
    {
     "data": {
      "text/plain": [
       "[{'MCQ': 'Which generative AI model architecture was introduced in 2013 and can encode data like an autoencoder but decode multiple new variations of the content?',\n",
       "  'Choices': 'a: Generative adversarial networks (GANs) | b: Transformers | c: Variational autoencoders (VAEs) | d: Diffusion models',\n",
       "  'Correct': 'c'},\n",
       " {'MCQ': \"Which generative AI model architecture works by first adding noise to the training data until it's random and unrecognizable, and then training the algorithm to iteratively diffuse the noise to reveal a desired output?\",\n",
       "  'Choices': 'a: Generative adversarial networks (GANs) | b: Transformers | c: Variational autoencoders (VAEs) | d: Diffusion models',\n",
       "  'Correct': 'd'},\n",
       " {'MCQ': \"Which generative AI model architecture was first documented in a 2017 paper published by Ashish Vaswani and others, and is at the core of most of today's headline-making generative AI tools?\",\n",
       "  'Choices': 'a: Generative adversarial networks (GANs) | b: Transformers | c: Variational autoencoders (VAEs) | d: Diffusion models',\n",
       "  'Correct': 'b'},\n",
       " {'MCQ': 'Which generative AI model architecture excels at natural language processing (NLP) and natural language understanding (NLU), and can generate longer sequences of data with greater accuracy and higher quality than other deep generative AI models?',\n",
       "  'Choices': 'a: Generative adversarial networks (GANs) | b: Transformers | c: Variational autoencoders (VAEs) | d: Diffusion models',\n",
       "  'Correct': 'b'},\n",
       " {'MCQ': 'Which generative AI model architecture is driven by a diffusion model and is used as an image-generation tool by Open AI?',\n",
       "  'Choices': 'a: Generative adversarial networks (GANs) | b: Transformers | c: Variational autoencoders (VAEs) | d: Diffusion models',\n",
       "  'Correct': 'd'}]"
      ]
     },
     "execution_count": 62,
     "metadata": {},
     "output_type": "execute_result"
    }
   ],
   "source": [
    "quiz_table_data"
   ]
  },
  {
   "cell_type": "code",
   "execution_count": 65,
   "metadata": {},
   "outputs": [],
   "source": [
    "df=pd.DataFrame(quiz_table_data)"
   ]
  },
  {
   "cell_type": "code",
   "execution_count": 64,
   "metadata": {},
   "outputs": [
    {
     "data": {
      "text/html": [
       "<div>\n",
       "<style scoped>\n",
       "    .dataframe tbody tr th:only-of-type {\n",
       "        vertical-align: middle;\n",
       "    }\n",
       "\n",
       "    .dataframe tbody tr th {\n",
       "        vertical-align: top;\n",
       "    }\n",
       "\n",
       "    .dataframe thead th {\n",
       "        text-align: right;\n",
       "    }\n",
       "</style>\n",
       "<table border=\"1\" class=\"dataframe\">\n",
       "  <thead>\n",
       "    <tr style=\"text-align: right;\">\n",
       "      <th></th>\n",
       "      <th>MCQ</th>\n",
       "      <th>Choices</th>\n",
       "      <th>Correct</th>\n",
       "    </tr>\n",
       "  </thead>\n",
       "  <tbody>\n",
       "    <tr>\n",
       "      <th>0</th>\n",
       "      <td>Which generative AI model architecture was int...</td>\n",
       "      <td>a: Generative adversarial networks (GANs) | b:...</td>\n",
       "      <td>c</td>\n",
       "    </tr>\n",
       "    <tr>\n",
       "      <th>1</th>\n",
       "      <td>Which generative AI model architecture works b...</td>\n",
       "      <td>a: Generative adversarial networks (GANs) | b:...</td>\n",
       "      <td>d</td>\n",
       "    </tr>\n",
       "    <tr>\n",
       "      <th>2</th>\n",
       "      <td>Which generative AI model architecture was fir...</td>\n",
       "      <td>a: Generative adversarial networks (GANs) | b:...</td>\n",
       "      <td>b</td>\n",
       "    </tr>\n",
       "    <tr>\n",
       "      <th>3</th>\n",
       "      <td>Which generative AI model architecture excels ...</td>\n",
       "      <td>a: Generative adversarial networks (GANs) | b:...</td>\n",
       "      <td>b</td>\n",
       "    </tr>\n",
       "    <tr>\n",
       "      <th>4</th>\n",
       "      <td>Which generative AI model architecture is driv...</td>\n",
       "      <td>a: Generative adversarial networks (GANs) | b:...</td>\n",
       "      <td>d</td>\n",
       "    </tr>\n",
       "  </tbody>\n",
       "</table>\n",
       "</div>"
      ],
      "text/plain": [
       "                                                 MCQ  \\\n",
       "0  Which generative AI model architecture was int...   \n",
       "1  Which generative AI model architecture works b...   \n",
       "2  Which generative AI model architecture was fir...   \n",
       "3  Which generative AI model architecture excels ...   \n",
       "4  Which generative AI model architecture is driv...   \n",
       "\n",
       "                                             Choices Correct  \n",
       "0  a: Generative adversarial networks (GANs) | b:...       c  \n",
       "1  a: Generative adversarial networks (GANs) | b:...       d  \n",
       "2  a: Generative adversarial networks (GANs) | b:...       b  \n",
       "3  a: Generative adversarial networks (GANs) | b:...       b  \n",
       "4  a: Generative adversarial networks (GANs) | b:...       d  "
      ]
     },
     "execution_count": 64,
     "metadata": {},
     "output_type": "execute_result"
    }
   ],
   "source": [
    "df"
   ]
  },
  {
   "cell_type": "code",
   "execution_count": 69,
   "metadata": {},
   "outputs": [],
   "source": [
    "df.to_csv(\"Generative_AI_Quiz.csv\",index=False)"
   ]
  },
  {
   "cell_type": "code",
   "execution_count": 84,
   "metadata": {},
   "outputs": [
    {
     "data": {
      "text/plain": [
       "'11-06-2024_17:02:40'"
      ]
     },
     "execution_count": 84,
     "metadata": {},
     "output_type": "execute_result"
    }
   ],
   "source": [
    "from datetime import datetime\n",
    "\n",
    "datetime.now().strftime('%d-%m-%Y_%H:%M:%S')"
   ]
  }
 ],
 "metadata": {
  "kernelspec": {
   "display_name": "Python 3",
   "language": "python",
   "name": "python3"
  },
  "language_info": {
   "codemirror_mode": {
    "name": "ipython",
    "version": 3
   },
   "file_extension": ".py",
   "mimetype": "text/x-python",
   "name": "python",
   "nbconvert_exporter": "python",
   "pygments_lexer": "ipython3",
   "version": "3.12.3"
  }
 },
 "nbformat": 4,
 "nbformat_minor": 2
}
